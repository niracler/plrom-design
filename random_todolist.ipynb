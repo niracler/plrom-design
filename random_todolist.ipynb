{
 "cells": [
  {
   "cell_type": "markdown",
   "id": "f265d23b-ef26-4a8f-9c39-8294515dd3c0",
   "metadata": {},
   "source": [
    "## Demo for Random TODOList\n",
    "\n",
    "## refer\n",
    "\n",
    "- https://pypi.org/project/py-trello/\n",
    "- https://networkx.org/documentation/stable/tutorial.html"
   ]
  },
  {
   "cell_type": "code",
   "execution_count": 1,
   "id": "85d534b3-0c6c-4832-ae5c-8b2d4d988b00",
   "metadata": {},
   "outputs": [
    {
     "data": {
      "text/plain": [
       "['config.ini']"
      ]
     },
     "execution_count": 1,
     "metadata": {},
     "output_type": "execute_result"
    }
   ],
   "source": [
    "import configparser\n",
    "config = configparser.ConfigParser()\n",
    "config.read('config.ini')"
   ]
  },
  {
   "cell_type": "code",
   "execution_count": 2,
   "id": "ec734ffd-56b8-4356-8e9d-4a15885f28b3",
   "metadata": {},
   "outputs": [
    {
     "name": "stdout",
     "output_type": "stream",
     "text": [
      "Hi-Kanban\n"
     ]
    }
   ],
   "source": [
    "from trello import TrelloClient\n",
    "\n",
    "client = TrelloClient(\n",
    "    api_key=config[\"defaut\"][\"api_key\"],\n",
    "    api_secret=config[\"defaut\"][\"api_secret\"],\n",
    "    token=config[\"defaut\"][\"token\"]\n",
    ")\n",
    "all_boards = client.list_boards()\n",
    "last_board = all_boards[0]\n",
    "print(last_board.name)"
   ]
  },
  {
   "cell_type": "code",
   "execution_count": 3,
   "id": "ee357c16-fccf-4d72-a802-88e079519302",
   "metadata": {},
   "outputs": [],
   "source": [
    "import re\n",
    "category_str = \"Knowledge|Output|ACG\"\n",
    "\n",
    "def map_to(x):\n",
    "    weights = re.findall('\\((.*?)\\)[ ]*\\|', x.name)\n",
    "    weight = int(weights[0]) if len(weights) >= 1 else 5\n",
    "    categorys = re.findall(\"^(\" + category_str + \")[^(^|.]*\", x.name)\n",
    "    category = categorys[0] if len(categorys) >= 1 else \"null\"\n",
    "    name = re.sub(\"^\" + category + \"[^|.]*\\|\", \"\", x.name).strip()\n",
    "    return { \n",
    "        \"name\": name,\n",
    "        \"weight\": weight, \n",
    "        \"category\": category, \n",
    "        \"labels\": [ label.name for label in x.labels ],\n",
    "        \"id\": x.id\n",
    "    }"
   ]
  },
  {
   "cell_type": "code",
   "execution_count": 4,
   "id": "1a7f6d48-e2d1-44a2-bbbe-a0904a0118c1",
   "metadata": {},
   "outputs": [
    {
     "data": {
      "text/html": [
       "<div>\n",
       "<style scoped>\n",
       "    .dataframe tbody tr th:only-of-type {\n",
       "        vertical-align: middle;\n",
       "    }\n",
       "\n",
       "    .dataframe tbody tr th {\n",
       "        vertical-align: top;\n",
       "    }\n",
       "\n",
       "    .dataframe thead th {\n",
       "        text-align: right;\n",
       "    }\n",
       "</style>\n",
       "<table border=\"1\" class=\"dataframe\">\n",
       "  <thead>\n",
       "    <tr style=\"text-align: right;\">\n",
       "      <th></th>\n",
       "      <th>name</th>\n",
       "      <th>weight</th>\n",
       "      <th>category</th>\n",
       "      <th>labels</th>\n",
       "      <th>id</th>\n",
       "    </tr>\n",
       "  </thead>\n",
       "  <tbody>\n",
       "    <tr>\n",
       "      <th>36</th>\n",
       "      <td>A Plague Tale: Innocence | niracler</td>\n",
       "      <td>2</td>\n",
       "      <td>ACG</td>\n",
       "      <td>[]</td>\n",
       "      <td>62b57bec6a4ab389e8c73c77</td>\n",
       "    </tr>\n",
       "    <tr>\n",
       "      <th>37</th>\n",
       "      <td>Divinity: Original Sin II | niracler</td>\n",
       "      <td>3</td>\n",
       "      <td>ACG</td>\n",
       "      <td>[]</td>\n",
       "      <td>62b57c174aa2968e8fecbbd9</td>\n",
       "    </tr>\n",
       "    <tr>\n",
       "      <th>38</th>\n",
       "      <td>Dead Cells | niracler</td>\n",
       "      <td>2</td>\n",
       "      <td>ACG</td>\n",
       "      <td>[]</td>\n",
       "      <td>62b57c2c07530b528c78ced4</td>\n",
       "    </tr>\n",
       "    <tr>\n",
       "      <th>39</th>\n",
       "      <td>赛博朋克系列书籍阅读 | niracler</td>\n",
       "      <td>40</td>\n",
       "      <td>Knowledge</td>\n",
       "      <td>[]</td>\n",
       "      <td>62b57c8f1ed2c520ebd12990</td>\n",
       "    </tr>\n",
       "    <tr>\n",
       "      <th>40</th>\n",
       "      <td>写作知识补充，阅读之前买的那些关于写作的书 | niracler</td>\n",
       "      <td>30</td>\n",
       "      <td>Knowledge</td>\n",
       "      <td>[]</td>\n",
       "      <td>62b57ce1f075270385b0b56b</td>\n",
       "    </tr>\n",
       "    <tr>\n",
       "      <th>41</th>\n",
       "      <td>读库方面书籍补课 | niracler</td>\n",
       "      <td>5</td>\n",
       "      <td>Knowledge</td>\n",
       "      <td>[]</td>\n",
       "      <td>62b57d38dddd008db0be42bd</td>\n",
       "    </tr>\n",
       "    <tr>\n",
       "      <th>42</th>\n",
       "      <td>我想写一个维持好友关系的机器人 | niracler</td>\n",
       "      <td>15</td>\n",
       "      <td>Output</td>\n",
       "      <td>[]</td>\n",
       "      <td>62b57d6b0f9ab12e016e5b9f</td>\n",
       "    </tr>\n",
       "    <tr>\n",
       "      <th>43</th>\n",
       "      <td>关于记录生活需要有照片这个事情 | niracler</td>\n",
       "      <td>5</td>\n",
       "      <td>Output</td>\n",
       "      <td>[]</td>\n",
       "      <td>62b57d8d780dde3647e1ba2d</td>\n",
       "    </tr>\n",
       "    <tr>\n",
       "      <th>44</th>\n",
       "      <td>最近做的工作跟系统底层打交道的情况实在是不少，需要补一下一些虚拟化方面的知识 | niracler</td>\n",
       "      <td>8</td>\n",
       "      <td>Knowledge</td>\n",
       "      <td>[]</td>\n",
       "      <td>62b57de2520d3026844f19bb</td>\n",
       "    </tr>\n",
       "    <tr>\n",
       "      <th>45</th>\n",
       "      <td>k8s(30H): 我要成为我们公司最熟悉这个技术的人 | niracler</td>\n",
       "      <td>40</td>\n",
       "      <td>Knowledge</td>\n",
       "      <td>[]</td>\n",
       "      <td>62b57e12d5a1828a3356ee87</td>\n",
       "    </tr>\n",
       "  </tbody>\n",
       "</table>\n",
       "</div>"
      ],
      "text/plain": [
       "                                                 name  weight   category  \\\n",
       "36                A Plague Tale: Innocence | niracler       2        ACG   \n",
       "37               Divinity: Original Sin II | niracler       3        ACG   \n",
       "38                              Dead Cells | niracler       2        ACG   \n",
       "39                              赛博朋克系列书籍阅读 | niracler      40  Knowledge   \n",
       "40                   写作知识补充，阅读之前买的那些关于写作的书 | niracler      30  Knowledge   \n",
       "41                                读库方面书籍补课 | niracler       5  Knowledge   \n",
       "42                         我想写一个维持好友关系的机器人 | niracler      15     Output   \n",
       "43                         关于记录生活需要有照片这个事情 | niracler       5     Output   \n",
       "44  最近做的工作跟系统底层打交道的情况实在是不少，需要补一下一些虚拟化方面的知识 | niracler       8  Knowledge   \n",
       "45             k8s(30H): 我要成为我们公司最熟悉这个技术的人 | niracler      40  Knowledge   \n",
       "\n",
       "   labels                        id  \n",
       "36     []  62b57bec6a4ab389e8c73c77  \n",
       "37     []  62b57c174aa2968e8fecbbd9  \n",
       "38     []  62b57c2c07530b528c78ced4  \n",
       "39     []  62b57c8f1ed2c520ebd12990  \n",
       "40     []  62b57ce1f075270385b0b56b  \n",
       "41     []  62b57d38dddd008db0be42bd  \n",
       "42     []  62b57d6b0f9ab12e016e5b9f  \n",
       "43     []  62b57d8d780dde3647e1ba2d  \n",
       "44     []  62b57de2520d3026844f19bb  \n",
       "45     []  62b57e12d5a1828a3356ee87  "
      ]
     },
     "execution_count": 4,
     "metadata": {},
     "output_type": "execute_result"
    }
   ],
   "source": [
    "import pandas as pd\n",
    "todo_list = last_board.get_list(\"6024ccfcd8d22a85fc633b71\")\n",
    "l = pd.DataFrame(list(map(map_to, todo_list.list_cards())))\n",
    "l[-10:]"
   ]
  },
  {
   "cell_type": "code",
   "execution_count": 5,
   "id": "624bc6a8-b756-41f1-96d4-1b9c72058d5a",
   "metadata": {},
   "outputs": [
    {
     "name": "stdout",
     "output_type": "stream",
     "text": [
      "不是: ['Dead Cells | niracler']\n",
      "不是: ['写作知识补充，阅读之前买的那些关于写作的书 | niracler']\n",
      "不是: ['我们来写小说吧 ｜ 假如有一个设定，外星人害怕黄金，对他们有害，对我们没害']\n",
      "不是: ['火焰纹章：风花雪月 其实都玩过这么多次了，是否真的金光其实我也觉得没什么必要了 | niracler']\n",
      "不是: ['关于记录生活需要有照片这个事情 | niracler']\n",
      "不是: ['火焰纹章：风花雪月 其实都玩过这么多次了，是否真的金光其实我也觉得没什么必要了 | niracler']\n",
      "不是: ['赛博朋克系列书籍阅读 | niracler']\n",
      "不是: ['k8s(30H): 我要成为我们公司最熟悉这个技术的人 | niracler']\n",
      "不是: ['《深入浅出nodejs》']\n",
      "\n",
      "6月份就是这个了: \n",
      "\n",
      "  k8s(30H): 我要成为我们公司最熟悉这个技术的人 | niracler\n",
      "\n",
      "恭喜恭喜!!!(2022-06-25 00:26:00)\n"
     ]
    }
   ],
   "source": [
    "import random, datetime, time\n",
    "\n",
    "def rs():\n",
    "    return random.choices(\n",
    "        population=list(l.name),\n",
    "        weights=list(l.weight),\n",
    "        k=1\n",
    "    )\n",
    "\n",
    "e = datetime.datetime.now()\n",
    "month = datetime.datetime.today().month\n",
    "\n",
    "for i in range(10):\n",
    "    time.sleep(1) # Delay for 5 seconds.\n",
    "    if i == 9:\n",
    "        print(\"\\n\" + str(month) + \"月份就是这个了: \\n\\n  \" + str(rs()[0]) + \"\\n\\n恭喜恭喜!!!(\" + e.strftime(\"%Y-%m-%d %H:%M:%S\") + \")\")\n",
    "    else:\n",
    "        print(\"不是: \" + str(rs()))"
   ]
  },
  {
   "cell_type": "code",
   "execution_count": null,
   "id": "95cb6993-9bf4-412e-abe7-663271ec849a",
   "metadata": {},
   "outputs": [],
   "source": []
  }
 ],
 "metadata": {
  "kernelspec": {
   "display_name": "Python 3 (ipykernel)",
   "language": "python",
   "name": "python3"
  },
  "language_info": {
   "codemirror_mode": {
    "name": "ipython",
    "version": 3
   },
   "file_extension": ".py",
   "mimetype": "text/x-python",
   "name": "python",
   "nbconvert_exporter": "python",
   "pygments_lexer": "ipython3",
   "version": "3.9.10"
  }
 },
 "nbformat": 4,
 "nbformat_minor": 5
}
