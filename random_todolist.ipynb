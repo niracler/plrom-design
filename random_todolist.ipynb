{
 "cells": [
  {
   "cell_type": "markdown",
   "id": "f265d23b-ef26-4a8f-9c39-8294515dd3c0",
   "metadata": {},
   "source": [
    "## Demo for Random TODOList\n",
    "\n",
    "- 我的 Random 应该加在 GitHub Action 上面\n",
    "\n",
    "## refer\n",
    "\n",
    "- https://pypi.org/project/py-trello/\n",
    "- https://networkx.org/documentation/stable/tutorial.html"
   ]
  },
  {
   "cell_type": "code",
   "execution_count": 1,
   "id": "85d534b3-0c6c-4832-ae5c-8b2d4d988b00",
   "metadata": {},
   "outputs": [
    {
     "data": {
      "text/plain": [
       "['config.ini']"
      ]
     },
     "execution_count": 1,
     "metadata": {},
     "output_type": "execute_result"
    }
   ],
   "source": [
    "import configparser\n",
    "import pandas as pd\n",
    "config = configparser.ConfigParser()\n",
    "config.read('config.ini')"
   ]
  },
  {
   "cell_type": "code",
   "execution_count": 2,
   "id": "ec734ffd-56b8-4356-8e9d-4a15885f28b3",
   "metadata": {},
   "outputs": [
    {
     "name": "stdout",
     "output_type": "stream",
     "text": [
      "Hi-Kanban\n"
     ]
    }
   ],
   "source": [
    "from trello import TrelloClient\n",
    "\n",
    "trello_client = TrelloClient(\n",
    "    api_key=config[\"defaut\"][\"api_key\"],\n",
    "    api_secret=config[\"defaut\"][\"api_secret\"],\n",
    "    token=config[\"defaut\"][\"token\"]\n",
    ")\n",
    "all_boards = trello_client.list_boards()\n",
    "last_board = all_boards[0]\n",
    "print(last_board.name)"
   ]
  },
  {
   "cell_type": "code",
   "execution_count": 4,
   "id": "be57eb48-742a-4829-b2b4-9ae5a830cdf2",
   "metadata": {},
   "outputs": [],
   "source": [
    "from telethon import TelegramClient, events, sync\n",
    "import socks\n",
    "import os\n",
    "\n",
    "SESSION = os.environ.get('TG_SESSION', 'interactive')\n",
    "API_ID = int(config[\"telegram\"][\"tg_api_id\"])\n",
    "API_HASH = config[\"telegram\"][\"tg_api_hash\"]\n",
    "PROXY = (socks.SOCKS5, '192.168.10.119', 1080)\n",
    "\n",
    "if f\"{SESSION}.session\" in os.listdir():\n",
    "    os.remove(f\"{SESSION}.session\")\n",
    "\n",
    "import sys\n",
    "import time\n",
    "client = TelegramClient(SESSION, API_ID, API_HASH, proxy=PROXY)\n",
    "from IPython.display import clear_output\n",
    "await client.start()\n",
    "\n",
    "clear_output()\n",
    "channel_username = 'niracler_channel'  # your channel"
   ]
  },
  {
   "cell_type": "code",
   "execution_count": 5,
   "id": "ee357c16-fccf-4d72-a802-88e079519302",
   "metadata": {},
   "outputs": [],
   "source": [
    "import re\n",
    "category_str = \"Knowledge|Output|ACG|Keep|Book\"\n",
    "\n",
    "def map_to(x):\n",
    "    weights = re.findall('\\((.*?)\\)[ ]*\\|', x.name)\n",
    "    weight = int(weights[0]) if len(weights) >= 1 else 5\n",
    "    categorys = re.findall(\"^(\" + category_str + \")[^(^|.]*\", x.name)\n",
    "    category = categorys[0] if len(categorys) >= 1 else \"null\"\n",
    "    name = re.sub(\"^\" + category + \"[^|.]*\\|\", \"\", x.name).strip()\n",
    "    return { \n",
    "        \"name\": name,\n",
    "        \"weight\": weight, \n",
    "        \"category\": category, \n",
    "        \"labels\": [ label.name for label in x.labels ],\n",
    "        \"id\": x.id,\n",
    "        \"title\": x.name, \n",
    "        \"short_url\": x.shortUrl\n",
    "    }"
   ]
  },
  {
   "cell_type": "code",
   "execution_count": 6,
   "id": "df77dc99-e133-403b-a7b7-09d352f12ed2",
   "metadata": {},
   "outputs": [
    {
     "data": {
      "text/plain": [
       "'631058bee13e0d048d72c450'"
      ]
     },
     "execution_count": 6,
     "metadata": {},
     "output_type": "execute_result"
    }
   ],
   "source": [
    "all_boards[0].list_lists()[3].id"
   ]
  },
  {
   "cell_type": "code",
   "execution_count": 18,
   "id": "1a7f6d48-e2d1-44a2-bbbe-a0904a0118c1",
   "metadata": {},
   "outputs": [
    {
     "name": "stdout",
     "output_type": "stream",
     "text": [
      "27\n",
      "category\n",
      "ACG          26.164875\n",
      "Book         21.505376\n",
      "Keep         10.752688\n",
      "Knowledge    27.240143\n",
      "Output       14.336918\n",
      "Name: weight, dtype: float64\n"
     ]
    },
    {
     "data": {
      "text/html": [
       "<div>\n",
       "<style scoped>\n",
       "    .dataframe tbody tr th:only-of-type {\n",
       "        vertical-align: middle;\n",
       "    }\n",
       "\n",
       "    .dataframe tbody tr th {\n",
       "        vertical-align: top;\n",
       "    }\n",
       "\n",
       "    .dataframe thead th {\n",
       "        text-align: right;\n",
       "    }\n",
       "</style>\n",
       "<table border=\"1\" class=\"dataframe\">\n",
       "  <thead>\n",
       "    <tr style=\"text-align: right;\">\n",
       "      <th></th>\n",
       "      <th>name</th>\n",
       "      <th>weight</th>\n",
       "      <th>category</th>\n",
       "      <th>labels</th>\n",
       "      <th>title</th>\n",
       "      <th>short_url</th>\n",
       "    </tr>\n",
       "    <tr>\n",
       "      <th>id</th>\n",
       "      <th></th>\n",
       "      <th></th>\n",
       "      <th></th>\n",
       "      <th></th>\n",
       "      <th></th>\n",
       "      <th></th>\n",
       "    </tr>\n",
       "  </thead>\n",
       "  <tbody>\n",
       "    <tr>\n",
       "      <th>62b576a357dd3e4a8c5de383</th>\n",
       "      <td>The Legend of Zelda: Breath of the Wild | nira...</td>\n",
       "      <td>15.0</td>\n",
       "      <td>ACG</td>\n",
       "      <td>[]</td>\n",
       "      <td>ACG(30) | The Legend of Zelda: Breath of the W...</td>\n",
       "      <td>https://trello.com/c/FjQNWFZY</td>\n",
       "    </tr>\n",
       "    <tr>\n",
       "      <th>62b5703983ee6965ea981880</th>\n",
       "      <td>The Witcher 3 | niracler</td>\n",
       "      <td>2.5</td>\n",
       "      <td>ACG</td>\n",
       "      <td>[game]</td>\n",
       "      <td>ACG | The Witcher 3 | niracler</td>\n",
       "      <td>https://trello.com/c/EQeRu9aQ</td>\n",
       "    </tr>\n",
       "    <tr>\n",
       "      <th>6472ff6be57980aa46522f16</th>\n",
       "      <td>《深入理解 Linux 内核》 | niracler</td>\n",
       "      <td>5.0</td>\n",
       "      <td>Book</td>\n",
       "      <td>[Learn]</td>\n",
       "      <td>Book | 《深入理解 Linux 内核》 | niracler</td>\n",
       "      <td>https://trello.com/c/EIU9kln8</td>\n",
       "    </tr>\n",
       "    <tr>\n",
       "      <th>64730042d7dc28370b60e64e</th>\n",
       "      <td>Animal Crossing: New Horizons | niracler</td>\n",
       "      <td>2.5</td>\n",
       "      <td>ACG</td>\n",
       "      <td>[game]</td>\n",
       "      <td>ACG | Animal Crossing: New Horizons | niracler</td>\n",
       "      <td>https://trello.com/c/vbxGoyWQ</td>\n",
       "    </tr>\n",
       "    <tr>\n",
       "      <th>62e87d6e49482649a15009db</th>\n",
       "      <td>画画技能培训 | niracler</td>\n",
       "      <td>5.0</td>\n",
       "      <td>Output</td>\n",
       "      <td>[]</td>\n",
       "      <td>Output | 画画技能培训 | niracler</td>\n",
       "      <td>https://trello.com/c/GjSwPq0Y</td>\n",
       "    </tr>\n",
       "    <tr>\n",
       "      <th>62fa4fe0c2e7927f7a4166cb</th>\n",
       "      <td>游戏史学| 《DOOM启世录》 | niracler</td>\n",
       "      <td>5.0</td>\n",
       "      <td>Knowledge</td>\n",
       "      <td>[]</td>\n",
       "      <td>Knowledge | 游戏史学| 《DOOM启世录》 | niracler</td>\n",
       "      <td>https://trello.com/c/BxuexZci</td>\n",
       "    </tr>\n",
       "    <tr>\n",
       "      <th>63082a12c95fd7010b7da8f2</th>\n",
       "      <td>game history | RPG | niracler</td>\n",
       "      <td>5.0</td>\n",
       "      <td>Knowledge</td>\n",
       "      <td>[]</td>\n",
       "      <td>Knowledge | game history | RPG | niracler</td>\n",
       "      <td>https://trello.com/c/ePy4hlOx</td>\n",
       "    </tr>\n",
       "    <tr>\n",
       "      <th>647306f8fc12d336e47fc2f8</th>\n",
       "      <td>Danganronpa V3: Killing Harmony | niracler</td>\n",
       "      <td>2.5</td>\n",
       "      <td>ACG</td>\n",
       "      <td>[game]</td>\n",
       "      <td>ACG | Danganronpa V3: Killing Harmony | niracler</td>\n",
       "      <td>https://trello.com/c/lrOiT0NZ</td>\n",
       "    </tr>\n",
       "    <tr>\n",
       "      <th>62b57c8f1ed2c520ebd12990</th>\n",
       "      <td>Cyberpunk series of books to read | 2 of these...</td>\n",
       "      <td>5.0</td>\n",
       "      <td>Knowledge</td>\n",
       "      <td>[Reading Notes]</td>\n",
       "      <td>Knowledge | Cyberpunk series of books to read ...</td>\n",
       "      <td>https://trello.com/c/2LFqWi2e</td>\n",
       "    </tr>\n",
       "    <tr>\n",
       "      <th>62bcee298ba2346af40363c8</th>\n",
       "      <td>Fitness ring adventure, try to pass? The proce...</td>\n",
       "      <td>5.0</td>\n",
       "      <td>Keep</td>\n",
       "      <td>[Sport]</td>\n",
       "      <td>Keep | Fitness ring adventure, try to pass? Th...</td>\n",
       "      <td>https://trello.com/c/21v7m30D</td>\n",
       "    </tr>\n",
       "  </tbody>\n",
       "</table>\n",
       "</div>"
      ],
      "text/plain": [
       "                                                                       name  \\\n",
       "id                                                                            \n",
       "62b576a357dd3e4a8c5de383  The Legend of Zelda: Breath of the Wild | nira...   \n",
       "62b5703983ee6965ea981880                           The Witcher 3 | niracler   \n",
       "6472ff6be57980aa46522f16                         《深入理解 Linux 内核》 | niracler   \n",
       "64730042d7dc28370b60e64e           Animal Crossing: New Horizons | niracler   \n",
       "62e87d6e49482649a15009db                                  画画技能培训 | niracler   \n",
       "62fa4fe0c2e7927f7a4166cb                         游戏史学| 《DOOM启世录》 | niracler   \n",
       "63082a12c95fd7010b7da8f2                      game history | RPG | niracler   \n",
       "647306f8fc12d336e47fc2f8         Danganronpa V3: Killing Harmony | niracler   \n",
       "62b57c8f1ed2c520ebd12990  Cyberpunk series of books to read | 2 of these...   \n",
       "62bcee298ba2346af40363c8  Fitness ring adventure, try to pass? The proce...   \n",
       "\n",
       "                          weight   category           labels  \\\n",
       "id                                                             \n",
       "62b576a357dd3e4a8c5de383    15.0        ACG               []   \n",
       "62b5703983ee6965ea981880     2.5        ACG           [game]   \n",
       "6472ff6be57980aa46522f16     5.0       Book          [Learn]   \n",
       "64730042d7dc28370b60e64e     2.5        ACG           [game]   \n",
       "62e87d6e49482649a15009db     5.0     Output               []   \n",
       "62fa4fe0c2e7927f7a4166cb     5.0  Knowledge               []   \n",
       "63082a12c95fd7010b7da8f2     5.0  Knowledge               []   \n",
       "647306f8fc12d336e47fc2f8     2.5        ACG           [game]   \n",
       "62b57c8f1ed2c520ebd12990     5.0  Knowledge  [Reading Notes]   \n",
       "62bcee298ba2346af40363c8     5.0       Keep          [Sport]   \n",
       "\n",
       "                                                                      title  \\\n",
       "id                                                                            \n",
       "62b576a357dd3e4a8c5de383  ACG(30) | The Legend of Zelda: Breath of the W...   \n",
       "62b5703983ee6965ea981880                     ACG | The Witcher 3 | niracler   \n",
       "6472ff6be57980aa46522f16                  Book | 《深入理解 Linux 内核》 | niracler   \n",
       "64730042d7dc28370b60e64e     ACG | Animal Crossing: New Horizons | niracler   \n",
       "62e87d6e49482649a15009db                         Output | 画画技能培训 | niracler   \n",
       "62fa4fe0c2e7927f7a4166cb             Knowledge | 游戏史学| 《DOOM启世录》 | niracler   \n",
       "63082a12c95fd7010b7da8f2          Knowledge | game history | RPG | niracler   \n",
       "647306f8fc12d336e47fc2f8   ACG | Danganronpa V3: Killing Harmony | niracler   \n",
       "62b57c8f1ed2c520ebd12990  Knowledge | Cyberpunk series of books to read ...   \n",
       "62bcee298ba2346af40363c8  Keep | Fitness ring adventure, try to pass? Th...   \n",
       "\n",
       "                                              short_url  \n",
       "id                                                       \n",
       "62b576a357dd3e4a8c5de383  https://trello.com/c/FjQNWFZY  \n",
       "62b5703983ee6965ea981880  https://trello.com/c/EQeRu9aQ  \n",
       "6472ff6be57980aa46522f16  https://trello.com/c/EIU9kln8  \n",
       "64730042d7dc28370b60e64e  https://trello.com/c/vbxGoyWQ  \n",
       "62e87d6e49482649a15009db  https://trello.com/c/GjSwPq0Y  \n",
       "62fa4fe0c2e7927f7a4166cb  https://trello.com/c/BxuexZci  \n",
       "63082a12c95fd7010b7da8f2  https://trello.com/c/ePy4hlOx  \n",
       "647306f8fc12d336e47fc2f8  https://trello.com/c/lrOiT0NZ  \n",
       "62b57c8f1ed2c520ebd12990  https://trello.com/c/2LFqWi2e  \n",
       "62bcee298ba2346af40363c8  https://trello.com/c/21v7m30D  "
      ]
     },
     "execution_count": 18,
     "metadata": {},
     "output_type": "execute_result"
    }
   ],
   "source": [
    "todo_list = last_board.get_list(\"631058bee13e0d048d72c450\")\n",
    "l = pd.DataFrame(list(map(map_to, todo_list.list_cards())))\n",
    "l = l.set_index(\"id\")\n",
    "# l.loc[l['category'] == 'ACG', 'weight'] /= 2 # if last month is ACG\n",
    "print(len(l))\n",
    "print(l.groupby(['category'])['weight'].sum() / l['weight'].sum() * 100)\n",
    "l[-10:]"
   ]
  },
  {
   "cell_type": "code",
   "execution_count": 19,
   "id": "624bc6a8-b756-41f1-96d4-1b9c72058d5a",
   "metadata": {},
   "outputs": [
    {
     "name": "stdout",
     "output_type": "stream",
     "text": [
      "不是: 最近做的工作跟系统底层打交道的情况实在是不少，需要补一下一些虚拟化方面的知识 | niracler\n",
      "不是: 羽毛球技术提升研究 | niracler\n",
      "不是: The Legend of Zelda: Breath of the Wild | niracler\n",
      "不是: 13 Sentinels: Aegis Rim | niracler\n",
      "不是: 关于互联网技术发展史的编写 | 先从收集各种资料开始 | niracler\n",
      "不是: 《深入浅出nodejs》| niracler\n",
      "不是: Fitness ring adventure, try to pass? The process may be quite long | niracler\n",
      "不是: k8s(30H): To be the most familiar with this technology in our company | Container and automate ops | niracler\n",
      "不是: 关于记录生活需要有照片这个事情 | 一天拍10选1 | niracler\n",
      "\n",
      "7月份就是这个了(id:62b57de2520d3026844f19bb):\n",
      "\n",
      "Knowledge(8) |最近做的工作跟系统底层打交道的情况实在是不少，需要补一下一些虚拟化方面的知识 | niracler | []\n",
      "\n",
      "恭喜恭喜!!!(2023-06-19 03:21:04)\n",
      "url: https://trello.com/c/wsKGva3F\n",
      "#random_todolist\n"
     ]
    }
   ],
   "source": [
    "import random, datetime, time\n",
    "\n",
    "def rs():\n",
    "    return random.choices(\n",
    "        population=list(l.index),\n",
    "        weights=list(l.weight),\n",
    "        k=1\n",
    "    )\n",
    "\n",
    "e = datetime.datetime.now()\n",
    "month = datetime.datetime.today().month\n",
    "\n",
    "for i in range(10):\n",
    "    time.sleep(3) # Delay for 3 seconds.\n",
    "    random_id = rs()[0]\n",
    "    if i < 9:\n",
    "        print(\"不是: \" + str(l.loc[random_id]['name']))\n",
    "        \n",
    "for card in todo_list.list_cards():\n",
    "    if(card.id == random_id):\n",
    "        card.change_list(\"6024cd248ecb43309b5eb2d0\")\n",
    "        \n",
    "msg = \"{month}月份就是这个了(id:{id}):\\n\\n{title} | {labels}\\n\\n恭喜恭喜!!!({time})\\nurl: {url}\\n#random_todolist\".format(\n",
    "    month=month+1,\n",
    "    id=random_id,\n",
    "    url=l.loc[random_id]['short_url'],\n",
    "    title=l.loc[random_id]['title'],\n",
    "    labels=l.loc[random_id]['labels'], \n",
    "    time=e.strftime(\"%Y-%m-%d %H:%M:%S\")\n",
    ")\n",
    "message = await client.send_message(entity=channel_username, message=msg)\n",
    "await client.pin_message(channel_username, message, notify=True)\n",
    "\n",
    "print(\"\\n\" + msg)"
   ]
  },
  {
   "cell_type": "code",
   "execution_count": 8,
   "id": "0ce2bf07-e460-4f90-82da-87fb620aa96e",
   "metadata": {},
   "outputs": [
    {
     "name": "stdout",
     "output_type": "stream",
     "text": [
      "hello world\n"
     ]
    }
   ],
   "source": [
    "print(\"hello world\")"
   ]
  }
 ],
 "metadata": {
  "kernelspec": {
   "display_name": "Python 3 (ipykernel)",
   "language": "python",
   "name": "python3"
  },
  "language_info": {
   "codemirror_mode": {
    "name": "ipython",
    "version": 3
   },
   "file_extension": ".py",
   "mimetype": "text/x-python",
   "name": "python",
   "nbconvert_exporter": "python",
   "pygments_lexer": "ipython3",
   "version": "3.9.10"
  }
 },
 "nbformat": 4,
 "nbformat_minor": 5
}
