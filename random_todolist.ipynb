{
 "cells": [
  {
   "cell_type": "markdown",
   "id": "f265d23b-ef26-4a8f-9c39-8294515dd3c0",
   "metadata": {},
   "source": [
    "## Demo for Random TODOList\n",
    "\n",
    "- 我的 Random 应该加在 GitHub Action 上面\n",
    "\n",
    "## Refer\n",
    "\n",
    "- https://pypi.org/project/py-trello/\n",
    "- https://networkx.org/documentation/stable/tutorial.html"
   ]
  },
  {
   "cell_type": "code",
   "execution_count": 1,
   "id": "85d534b3-0c6c-4832-ae5c-8b2d4d988b00",
   "metadata": {},
   "outputs": [
    {
     "data": {
      "text/plain": [
       "['config.ini']"
      ]
     },
     "execution_count": 1,
     "metadata": {},
     "output_type": "execute_result"
    }
   ],
   "source": [
    "import configparser\n",
    "import pandas as pd\n",
    "config = configparser.ConfigParser()\n",
    "config.read('config.ini')"
   ]
  },
  {
   "cell_type": "markdown",
   "id": "964813ca-f713-4268-ae1d-b67bb687bc73",
   "metadata": {},
   "source": [
    "## Connect to Trello"
   ]
  },
  {
   "cell_type": "code",
   "execution_count": 2,
   "id": "ec734ffd-56b8-4356-8e9d-4a15885f28b3",
   "metadata": {},
   "outputs": [
    {
     "name": "stdout",
     "output_type": "stream",
     "text": [
      "Hi-Kanban\n",
      "631058bee13e0d048d72c450\n"
     ]
    }
   ],
   "source": [
    "from trello import TrelloClient\n",
    "\n",
    "trello_client = TrelloClient(\n",
    "    api_key=config[\"defaut\"][\"api_key\"],\n",
    "    api_secret=config[\"defaut\"][\"api_secret\"],\n",
    "    token=config[\"defaut\"][\"token\"]\n",
    ")\n",
    "all_boards = trello_client.list_boards()\n",
    "last_board = all_boards[0]\n",
    "print(last_board.name)\n",
    "print(all_boards[0].list_lists()[3].id)"
   ]
  },
  {
   "cell_type": "code",
   "execution_count": 3,
   "id": "ee357c16-fccf-4d72-a802-88e079519302",
   "metadata": {},
   "outputs": [],
   "source": [
    "import re\n",
    "category_str = \"Knowledge|Output|ACG|Keep|Book\"\n",
    "\n",
    "def map_to(x):\n",
    "    weights = re.findall('\\((.*?)\\)[ ]*\\|', x.name)\n",
    "    weight = int(weights[0]) if len(weights) >= 1 else 5\n",
    "    categorys = re.findall(\"^(\" + category_str + \")[^(^|.]*\", x.name)\n",
    "    category = categorys[0] if len(categorys) >= 1 else \"null\"\n",
    "    name = re.sub(\"^\" + category + \"[^|.]*\\|\", \"\", x.name).strip()\n",
    "    return { \n",
    "        \"name\": name,\n",
    "        \"weight\": weight, \n",
    "        \"category\": category, \n",
    "        \"labels\": [ label.name for label in x.labels ],\n",
    "        \"id\": x.id,\n",
    "        \"title\": x.name, \n",
    "        \"short_url\": x.shortUrl\n",
    "    }"
   ]
  },
  {
   "cell_type": "code",
   "execution_count": 4,
   "id": "0254817f-74fd-42ca-97f6-2f77f87e355c",
   "metadata": {},
   "outputs": [
    {
     "data": {
      "text/html": [
       "<div>\n",
       "<style scoped>\n",
       "    .dataframe tbody tr th:only-of-type {\n",
       "        vertical-align: middle;\n",
       "    }\n",
       "\n",
       "    .dataframe tbody tr th {\n",
       "        vertical-align: top;\n",
       "    }\n",
       "\n",
       "    .dataframe thead th {\n",
       "        text-align: right;\n",
       "    }\n",
       "</style>\n",
       "<table border=\"1\" class=\"dataframe\">\n",
       "  <thead>\n",
       "    <tr style=\"text-align: right;\">\n",
       "      <th></th>\n",
       "      <th>Date</th>\n",
       "      <th>Title</th>\n",
       "      <th>Category</th>\n",
       "    </tr>\n",
       "  </thead>\n",
       "  <tbody>\n",
       "    <tr>\n",
       "      <th>0</th>\n",
       "      <td>2023-06</td>\n",
       "      <td>VA-11 Hall-A: Cyberpunk Bartender Action</td>\n",
       "      <td>Knowledge</td>\n",
       "    </tr>\n",
       "    <tr>\n",
       "      <th>1</th>\n",
       "      <td>2023-07</td>\n",
       "      <td>Apple Game Porting Toolkit Research</td>\n",
       "      <td>Knowledge</td>\n",
       "    </tr>\n",
       "    <tr>\n",
       "      <th>2</th>\n",
       "      <td>2023-08</td>\n",
       "      <td>The Legend of Zelda: Breath of the Wild - nira...</td>\n",
       "      <td>ACG</td>\n",
       "    </tr>\n",
       "  </tbody>\n",
       "</table>\n",
       "</div>"
      ],
      "text/plain": [
       "      Date                                              Title   Category\n",
       "0  2023-06           VA-11 Hall-A: Cyberpunk Bartender Action  Knowledge\n",
       "1  2023-07                Apple Game Porting Toolkit Research  Knowledge\n",
       "2  2023-08  The Legend of Zelda: Breath of the Wild - nira...        ACG"
      ]
     },
     "execution_count": 4,
     "metadata": {},
     "output_type": "execute_result"
    }
   ],
   "source": [
    "history = pd.read_csv('table.csv')\n",
    "history"
   ]
  },
  {
   "cell_type": "code",
   "execution_count": 5,
   "id": "1a7f6d48-e2d1-44a2-bbbe-a0904a0118c1",
   "metadata": {},
   "outputs": [
    {
     "name": "stdout",
     "output_type": "stream",
     "text": [
      "7\n",
      "category\n",
      "ACG           7.692308\n",
      "Book          7.692308\n",
      "Keep         15.384615\n",
      "Knowledge     7.692308\n",
      "Output       53.846154\n",
      "null          7.692308\n",
      "Name: weight, dtype: float64\n"
     ]
    },
    {
     "data": {
      "text/html": [
       "<div>\n",
       "<style scoped>\n",
       "    .dataframe tbody tr th:only-of-type {\n",
       "        vertical-align: middle;\n",
       "    }\n",
       "\n",
       "    .dataframe tbody tr th {\n",
       "        vertical-align: top;\n",
       "    }\n",
       "\n",
       "    .dataframe thead th {\n",
       "        text-align: right;\n",
       "    }\n",
       "</style>\n",
       "<table border=\"1\" class=\"dataframe\">\n",
       "  <thead>\n",
       "    <tr style=\"text-align: right;\">\n",
       "      <th></th>\n",
       "      <th>name</th>\n",
       "      <th>weight</th>\n",
       "      <th>category</th>\n",
       "      <th>labels</th>\n",
       "      <th>title</th>\n",
       "      <th>short_url</th>\n",
       "    </tr>\n",
       "    <tr>\n",
       "      <th>id</th>\n",
       "      <th></th>\n",
       "      <th></th>\n",
       "      <th></th>\n",
       "      <th></th>\n",
       "      <th></th>\n",
       "      <th></th>\n",
       "    </tr>\n",
       "  </thead>\n",
       "  <tbody>\n",
       "    <tr>\n",
       "      <th>648fcca93ff71a2867b44ad6</th>\n",
       "      <td>LLaMA 《Prompt Engineering》《Building System》《La...</td>\n",
       "      <td>30</td>\n",
       "      <td>Output</td>\n",
       "      <td>[Learn, Reading Notes]</td>\n",
       "      <td>Output(30) | LLaMA 《Prompt Engineering》《Buildi...</td>\n",
       "      <td>https://trello.com/c/0Y0q6PVo</td>\n",
       "    </tr>\n",
       "    <tr>\n",
       "      <th>62dd197bc71a2589a9aee745</th>\n",
       "      <td>《羽毛球基础精要》 | Improving Badminton Skills | 提升羽毛球技术</td>\n",
       "      <td>10</td>\n",
       "      <td>Keep</td>\n",
       "      <td>[Sport]</td>\n",
       "      <td>Keep(10) | 《羽毛球基础精要》 | Improving Badminton Ski...</td>\n",
       "      <td>https://trello.com/c/cJ7MZSPe</td>\n",
       "    </tr>\n",
       "    <tr>\n",
       "      <th>63903879fe363100e5ceb378</th>\n",
       "      <td>Persona 5 Royal | 女神异闻录五 皇家版</td>\n",
       "      <td>5</td>\n",
       "      <td>ACG</td>\n",
       "      <td>[game]</td>\n",
       "      <td>ACG(10) | Persona 5 Royal | 女神异闻录五 皇家版</td>\n",
       "      <td>https://trello.com/c/RjWy6yJp</td>\n",
       "    </tr>\n",
       "    <tr>\n",
       "      <th>64d047dd6f82c97369e7cad0</th>\n",
       "      <td>CyberSecurity | Add two-factor authentication ...</td>\n",
       "      <td>5</td>\n",
       "      <td>null</td>\n",
       "      <td>[Learn]</td>\n",
       "      <td>CyberSecurity | Add two-factor authentication ...</td>\n",
       "      <td>https://trello.com/c/ZvWSPTvc</td>\n",
       "    </tr>\n",
       "    <tr>\n",
       "      <th>6472fe7883627f70d789cd1f</th>\n",
       "      <td>The Mythical Man-Month | Identify the challeng...</td>\n",
       "      <td>5</td>\n",
       "      <td>Book</td>\n",
       "      <td>[Learn, Reading Notes]</td>\n",
       "      <td>Book | The Mythical Man-Month | Identify the c...</td>\n",
       "      <td>https://trello.com/c/XOm4sDK1</td>\n",
       "    </tr>\n",
       "    <tr>\n",
       "      <th>62b57d8d780dde3647e1ba2d</th>\n",
       "      <td>It is necessary to take photos to document lif...</td>\n",
       "      <td>5</td>\n",
       "      <td>Output</td>\n",
       "      <td>[Life Habit]</td>\n",
       "      <td>Output | It is necessary to take photos to doc...</td>\n",
       "      <td>https://trello.com/c/Hf8Ujtkp</td>\n",
       "    </tr>\n",
       "    <tr>\n",
       "      <th>60b9d1aa383fca278c6ca85a</th>\n",
       "      <td>阮一峰《TypeScript教程》| Review the TypeScript code ...</td>\n",
       "      <td>5</td>\n",
       "      <td>Knowledge</td>\n",
       "      <td>[Learn]</td>\n",
       "      <td>Knowledge | 阮一峰《TypeScript教程》| Review the Type...</td>\n",
       "      <td>https://trello.com/c/CdY3SLTg</td>\n",
       "    </tr>\n",
       "  </tbody>\n",
       "</table>\n",
       "</div>"
      ],
      "text/plain": [
       "                                                                       name  \\\n",
       "id                                                                            \n",
       "648fcca93ff71a2867b44ad6  LLaMA 《Prompt Engineering》《Building System》《La...   \n",
       "62dd197bc71a2589a9aee745   《羽毛球基础精要》 | Improving Badminton Skills | 提升羽毛球技术   \n",
       "63903879fe363100e5ceb378                       Persona 5 Royal | 女神异闻录五 皇家版   \n",
       "64d047dd6f82c97369e7cad0  CyberSecurity | Add two-factor authentication ...   \n",
       "6472fe7883627f70d789cd1f  The Mythical Man-Month | Identify the challeng...   \n",
       "62b57d8d780dde3647e1ba2d  It is necessary to take photos to document lif...   \n",
       "60b9d1aa383fca278c6ca85a  阮一峰《TypeScript教程》| Review the TypeScript code ...   \n",
       "\n",
       "                          weight   category                  labels  \\\n",
       "id                                                                    \n",
       "648fcca93ff71a2867b44ad6      30     Output  [Learn, Reading Notes]   \n",
       "62dd197bc71a2589a9aee745      10       Keep                 [Sport]   \n",
       "63903879fe363100e5ceb378       5        ACG                  [game]   \n",
       "64d047dd6f82c97369e7cad0       5       null                 [Learn]   \n",
       "6472fe7883627f70d789cd1f       5       Book  [Learn, Reading Notes]   \n",
       "62b57d8d780dde3647e1ba2d       5     Output            [Life Habit]   \n",
       "60b9d1aa383fca278c6ca85a       5  Knowledge                 [Learn]   \n",
       "\n",
       "                                                                      title  \\\n",
       "id                                                                            \n",
       "648fcca93ff71a2867b44ad6  Output(30) | LLaMA 《Prompt Engineering》《Buildi...   \n",
       "62dd197bc71a2589a9aee745  Keep(10) | 《羽毛球基础精要》 | Improving Badminton Ski...   \n",
       "63903879fe363100e5ceb378             ACG(10) | Persona 5 Royal | 女神异闻录五 皇家版   \n",
       "64d047dd6f82c97369e7cad0  CyberSecurity | Add two-factor authentication ...   \n",
       "6472fe7883627f70d789cd1f  Book | The Mythical Man-Month | Identify the c...   \n",
       "62b57d8d780dde3647e1ba2d  Output | It is necessary to take photos to doc...   \n",
       "60b9d1aa383fca278c6ca85a  Knowledge | 阮一峰《TypeScript教程》| Review the Type...   \n",
       "\n",
       "                                              short_url  \n",
       "id                                                       \n",
       "648fcca93ff71a2867b44ad6  https://trello.com/c/0Y0q6PVo  \n",
       "62dd197bc71a2589a9aee745  https://trello.com/c/cJ7MZSPe  \n",
       "63903879fe363100e5ceb378  https://trello.com/c/RjWy6yJp  \n",
       "64d047dd6f82c97369e7cad0  https://trello.com/c/ZvWSPTvc  \n",
       "6472fe7883627f70d789cd1f  https://trello.com/c/XOm4sDK1  \n",
       "62b57d8d780dde3647e1ba2d  https://trello.com/c/Hf8Ujtkp  \n",
       "60b9d1aa383fca278c6ca85a  https://trello.com/c/CdY3SLTg  "
      ]
     },
     "execution_count": 5,
     "metadata": {},
     "output_type": "execute_result"
    }
   ],
   "source": [
    "todo_list = last_board.get_list(\"631058bee13e0d048d72c450\")\n",
    "l = pd.DataFrame(list(map(map_to, todo_list.list_cards())))\n",
    "l = l.set_index(\"id\")\n",
    "previous_category = history.iloc[-1]['Category']\n",
    "if previous_category == \"ACG\":\n",
    "    l.loc[l['category'] == 'ACG', 'weight'] /= 2 # if last month is ACG\n",
    "print(len(l))\n",
    "print(l.groupby(['category'])['weight'].sum() / l['weight'].sum() * 100)\n",
    "l[-10:]"
   ]
  },
  {
   "cell_type": "markdown",
   "id": "311e15cc-9a14-408a-a3c6-3e2037f95e90",
   "metadata": {},
   "source": [
    "## Connect to telegram"
   ]
  },
  {
   "cell_type": "code",
   "execution_count": 6,
   "id": "be57eb48-742a-4829-b2b4-9ae5a830cdf2",
   "metadata": {},
   "outputs": [],
   "source": [
    "from telethon import TelegramClient, events, sync\n",
    "import socks\n",
    "import os\n",
    "\n",
    "SESSION = os.environ.get('TG_SESSION', 'interactive')\n",
    "API_ID = int(config[\"telegram\"][\"tg_api_id\"])\n",
    "API_HASH = config[\"telegram\"][\"tg_api_hash\"]\n",
    "PROXY = (socks.SOCKS5, '192.168.10.119', 1080)\n",
    "\n",
    "if f\"{SESSION}.session\" in os.listdir():\n",
    "    os.remove(f\"{SESSION}.session\")\n",
    "\n",
    "import sys\n",
    "import time\n",
    "client = TelegramClient(SESSION, API_ID, API_HASH, proxy=PROXY)\n",
    "from IPython.display import clear_output\n",
    "await client.start()\n",
    "\n",
    "clear_output()\n",
    "channel_username = 'niracler_channel'  # your channel"
   ]
  },
  {
   "cell_type": "code",
   "execution_count": 7,
   "id": "aab33e3f-f262-415a-b45b-7c697e039806",
   "metadata": {},
   "outputs": [],
   "source": [
    "# data = [\n",
    "#     ['2023-07', '最近做的工作跟系统底层打交道的情况实在是不少，需要补一下一些虚拟化方面的知识', 'Knowledge'],\n",
    "# ]\n",
    "\n",
    "# df = pd.DataFrame(data, columns=['Date', 'Title', 'Category'])\n",
    "# df.to_csv('table.csv', index=False)"
   ]
  },
  {
   "cell_type": "markdown",
   "id": "88ab3bb8-7ab8-44a4-aa60-d212b1371e5f",
   "metadata": {},
   "source": [
    "## Random Now ~~"
   ]
  },
  {
   "cell_type": "code",
   "execution_count": 8,
   "id": "624bc6a8-b756-41f1-96d4-1b9c72058d5a",
   "metadata": {},
   "outputs": [
    {
     "name": "stdin",
     "output_type": "stream",
     "text": [
      "确定要继续运行吗？(Y/N):  \n"
     ]
    },
    {
     "name": "stdout",
     "output_type": "stream",
     "text": [
      "不是: The Witcher 3 | niracler\n",
      "不是: The Witcher 3 | niracler\n",
      "不是: LLaMA 《Prompt Engineering》《Building System》和《LangChain》 | niracler\n",
      "不是: 画画技能培训 | niracler\n",
      "不是: Animal Crossing: New Horizons | niracler\n",
      "不是: LLaMA 《Prompt Engineering》《Building System》和《LangChain》 | niracler\n",
      "不是: 《深入浅出nodejs》| niracler\n",
      "不是: LLaMA 《Prompt Engineering》《Building System》和《LangChain》 | niracler\n",
      "不是: Danganronpa V3: Killing Harmony | niracler\n",
      "\n",
      "8月份就是这个了(id:62b576a357dd3e4a8c5de383):\n",
      "\n",
      "ACG(30) | The Legend of Zelda: Breath of the Wild | niracler | []\n",
      "\n",
      "恭喜恭喜!!!(2023-07-25 03:33:47)\n",
      "url: https://trello.com/c/FjQNWFZY\n",
      "#random_todolist\n",
      "README 文件已更新！\n"
     ]
    },
    {
     "data": {
      "text/html": [
       "<div>\n",
       "<style scoped>\n",
       "    .dataframe tbody tr th:only-of-type {\n",
       "        vertical-align: middle;\n",
       "    }\n",
       "\n",
       "    .dataframe tbody tr th {\n",
       "        vertical-align: top;\n",
       "    }\n",
       "\n",
       "    .dataframe thead th {\n",
       "        text-align: right;\n",
       "    }\n",
       "</style>\n",
       "<table border=\"1\" class=\"dataframe\">\n",
       "  <thead>\n",
       "    <tr style=\"text-align: right;\">\n",
       "      <th></th>\n",
       "      <th>Date</th>\n",
       "      <th>Title</th>\n",
       "      <th>Category</th>\n",
       "    </tr>\n",
       "  </thead>\n",
       "  <tbody>\n",
       "    <tr>\n",
       "      <th>0</th>\n",
       "      <td>2023-07</td>\n",
       "      <td>最近做的工作跟系统底层打交道的情况实在是不少，需要补一下一些虚拟化方面的知识</td>\n",
       "      <td>Knowledge</td>\n",
       "    </tr>\n",
       "    <tr>\n",
       "      <th>1</th>\n",
       "      <td>2023-08</td>\n",
       "      <td>The Legend of Zelda: Breath of the Wild | nira...</td>\n",
       "      <td>ACG</td>\n",
       "    </tr>\n",
       "  </tbody>\n",
       "</table>\n",
       "</div>"
      ],
      "text/plain": [
       "      Date                                              Title   Category\n",
       "0  2023-07             最近做的工作跟系统底层打交道的情况实在是不少，需要补一下一些虚拟化方面的知识  Knowledge\n",
       "1  2023-08  The Legend of Zelda: Breath of the Wild | nira...        ACG"
      ]
     },
     "execution_count": 8,
     "metadata": {},
     "output_type": "execute_result"
    }
   ],
   "source": [
    "import random, datetime, time\n",
    "\n",
    "user_input = input(\"确定要继续运行吗？(Y/N): \")    \n",
    "\n",
    "def rs():\n",
    "    return random.choices(\n",
    "        population=list(l.index),\n",
    "        weights=list(l.weight),\n",
    "        k=1\n",
    "    )\n",
    "\n",
    "e = datetime.datetime.now()\n",
    "month = datetime.datetime.today().month\n",
    "\n",
    "for i in range(10):\n",
    "    time.sleep(3) # Delay for 3 seconds.\n",
    "    random_id = rs()[0]\n",
    "    if i < 9:\n",
    "        print(\"不是: \" + str(l.loc[random_id]['name']))\n",
    "        \n",
    "msg = \"{month}月份就是这个了(id:{id}):\\n\\n{title} | {labels}\\n\\n恭喜恭喜!!!({time})\\nurl: {url}\\n#random_todolist\".format(\n",
    "    month=month+1,\n",
    "    id=random_id,\n",
    "    url=l.loc[random_id]['short_url'],\n",
    "    title=l.loc[random_id]['title'],\n",
    "    labels=l.loc[random_id]['labels'], \n",
    "    time=e.strftime(\"%Y-%m-%d %H:%M:%S\")\n",
    ")\n",
    "\n",
    "print(\"\\n\" + msg)\n",
    "\n",
    "## Sync to ...\n",
    "        \n",
    "for card in todo_list.list_cards():\n",
    "    if(card.id == random_id):\n",
    "        card.change_list(\"6024cd248ecb43309b5eb2d0\")\n",
    "        \n",
    "message = await client.send_message(entity=channel_username, message=msg)\n",
    "await client.pin_message(channel_username, message, notify=True)\n",
    "\n",
    "from datetime import datetime\n",
    "from dateutil.relativedelta import relativedelta\n",
    "\n",
    "if len(history) == 0:\n",
    "    current_date = datetime.now().strftime('%Y-%m')\n",
    "else:\n",
    "    previous_date = history.iloc[-1]['Date']\n",
    "    previous_date = datetime.strptime(previous_date, '%Y-%m')\n",
    "    current_date = previous_date + relativedelta(months=1)\n",
    "    current_date = current_date.strftime('%Y-%m')\n",
    "\n",
    "new_row = {'Date': current_date, 'Title': l.loc[random_id]['name'], 'Category': l.loc[random_id]['category'].replace(\"|\", \"-\")}\n",
    "new_df = pd.DataFrame(new_row, index=[0])\n",
    "\n",
    "history = pd.concat([history, new_df], ignore_index=True)\n",
    "markdown_table = history.to_markdown(index=False)\n",
    "history\n",
    "\n",
    "# 更新 README 文档\n",
    "readme_path = 'README.md'\n",
    "\n",
    "with open(readme_path, 'r') as file:\n",
    "    readme_content = file.read()\n",
    "\n",
    "# 找到要替换的标记，例如 <!-- TABLE_START --> 和 <!-- TABLE_END -->\n",
    "table_start = '<!-- TABLE_START -->\\n'\n",
    "table_end = '\\n<!-- TABLE_END -->'\n",
    "\n",
    "# 替换标记位置的内容为 Markdown 表格\n",
    "regex = f\"{re.escape(table_start)}(.*?)\\n{re.escape(table_end)}\"\n",
    "updated_readme_content = re.sub(regex, f\"{table_start}\\n{markdown_table}\\n{table_end}\", readme_content, flags=re.DOTALL)\n",
    "updated_readme_content\n",
    "\n",
    "# 写入更新后的 README 文件\n",
    "with open(readme_path, 'w') as file:\n",
    "    file.write(updated_readme_content)\n",
    "\n",
    "print(\"README 文件已更新！\")\n",
    "history.to_csv('table.csv', index=False)\n",
    "history"
   ]
  },
  {
   "cell_type": "code",
   "execution_count": 9,
   "id": "0ce2bf07-e460-4f90-82da-87fb620aa96e",
   "metadata": {},
   "outputs": [
    {
     "name": "stdout",
     "output_type": "stream",
     "text": [
      "hello world\n"
     ]
    }
   ],
   "source": [
    "print(\"hello world\")"
   ]
  },
  {
   "cell_type": "code",
   "execution_count": null,
   "id": "89918720-18bc-489b-a7e3-ca80797a977b",
   "metadata": {},
   "outputs": [],
   "source": []
  }
 ],
 "metadata": {
  "kernelspec": {
   "display_name": "Python 3 (ipykernel)",
   "language": "python",
   "name": "python3"
  },
  "language_info": {
   "codemirror_mode": {
    "name": "ipython",
    "version": 3
   },
   "file_extension": ".py",
   "mimetype": "text/x-python",
   "name": "python",
   "nbconvert_exporter": "python",
   "pygments_lexer": "ipython3",
   "version": "3.9.10"
  }
 },
 "nbformat": 4,
 "nbformat_minor": 5
}
